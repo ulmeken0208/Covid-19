{
 "cells": [
  {
   "cell_type": "code",
   "execution_count": 2,
   "metadata": {},
   "outputs": [],
   "source": [
    "import os\n",
    "import datetime\n",
    "import pandas as pd\n",
    "from client import client\n",
    "    "
   ]
  },
  {
   "cell_type": "code",
   "execution_count": 3,
   "metadata": {},
   "outputs": [
    {
     "output_type": "stream",
     "name": "stdout",
     "text": [
      "Creation of the directory failed\nCreation of the directory failed\nCreation of the directory failed\n"
     ]
    }
   ],
   "source": [
    "def try_create_directory(path):\r\n",
    "    try:\r\n",
    "        os.mkdir(os.path.abspath(\"\") + '/' + path)\r\n",
    "    except OSError:\r\n",
    "        print (\"Creation of the directory failed\")\r\n",
    "    else:\r\n",
    "        print (\"Directory created successfully\")\r\n",
    "\r\n",
    "try_create_directory(f'data')\r\n",
    "try_create_directory(f'data/by-date')\r\n",
    "try_create_directory(f'data/by-date-range')\r\n"
   ]
  },
  {
   "cell_type": "markdown",
   "metadata": {},
   "source": [
    "-------------------------------------------------------\n",
    "Countries"
   ]
  },
  {
   "cell_type": "code",
   "execution_count": 4,
   "metadata": {},
   "outputs": [],
   "source": [
    "countries = client.get_countries()\n",
    "\n",
    "data = {'Name': [country['name'] for country in countries]}\n",
    "df = pd.DataFrame(data, columns=['Name'])\n",
    "df.to_csv ('data/countries.csv', index = False, header=True)"
   ]
  },
  {
   "cell_type": "markdown",
   "metadata": {},
   "source": [
    "---------------------------------\n",
    "Country's today statisctics"
   ]
  },
  {
   "cell_type": "code",
   "execution_count": 5,
   "metadata": {},
   "outputs": [],
   "source": [
    "def generate_and_save_country_last_stats(country, save=True):\r\n",
    "    country_data = client.get_country_detail(country)\r\n",
    "    lastUpdate = country_data[0]['lastUpdate']\r\n",
    "    date = datetime.datetime.fromtimestamp(lastUpdate/1000.0)\r\n",
    "\r\n",
    "    data = {\r\n",
    "        'provinceState': [country_data[i]['provinceState'] for i in range(len(country_data))],\r\n",
    "        'Confirmed': [country_data[i]['confirmed'] for i in range(len(country_data))],\r\n",
    "        'Recovered': [country_data[i]['recovered'] for i in range(len(country_data))],\r\n",
    "        'Deaths': [country_data[i]['deaths'] for i in range(len(country_data))],\r\n",
    "        'Active': [country_data[i]['active'] for i in range(len(country_data))],\r\n",
    "        'date': [date] * (len(country_data))\r\n",
    "    }\r\n",
    "    if save:\r\n",
    "        df = pd.DataFrame(data, columns=['provinceState', 'Confirmed', 'Recovered', 'Deaths', 'Active', 'date'])\r\n",
    "        try_create_directory(f'data/by-date/{date.day}-{date.month}-{date.year}')\r\n",
    "        df.to_csv (f'data/by-date/{date.day}-{date.month}-{date.year}/{country}.csv', index = False, header=True)\r\n",
    "\r\n",
    "    return data"
   ]
  },
  {
   "cell_type": "code",
   "execution_count": 21,
   "metadata": {},
   "outputs": [
    {
     "output_type": "stream",
     "name": "stdout",
     "text": [
      "Directory created successfully\n"
     ]
    }
   ],
   "source": [
    "country = \"China\"\r\n",
    "_ = generate_and_save_country_last_stats(country)"
   ]
  },
  {
   "cell_type": "markdown",
   "metadata": {},
   "source": [
    "_____\n",
    "Statistics of specific country for given date"
   ]
  },
  {
   "cell_type": "code",
   "execution_count": 6,
   "metadata": {},
   "outputs": [],
   "source": [
    "def generate_and_save_country_stats_by_date(country, day, month, year, save=True):\r\n",
    "    country_data = client.get_country_stats_by_date(country, day, month, year)\r\n",
    "    lastUpdate = country_data[0]['lastUpdate']\r\n",
    "    date = datetime.datetime.strptime(lastUpdate, '%Y-%m-%d %H:%M:%S')\r\n",
    "\r\n",
    "    data = {\r\n",
    "        'provinceState': [country_data[i]['provinceState'] for i in range(len(country_data))],\r\n",
    "        'Confirmed': [country_data[i]['confirmed'] for i in range(len(country_data))],\r\n",
    "        'Recovered': [country_data[i]['recovered'] for i in range(len(country_data))],\r\n",
    "        'Deaths': [country_data[i]['deaths'] for i in range(len(country_data))],\r\n",
    "        'Active': [country_data[i]['active'] for i in range(len(country_data))],\r\n",
    "        'date': [date] * len(country_data)\r\n",
    "    }\r\n",
    "\r\n",
    "    if save:\r\n",
    "        df = pd.DataFrame(data, columns=['provinceState', 'Confirmed', 'Recovered', 'Deaths', 'Active', 'date'])\r\n",
    "        try_create_directory(f'data/by-date/{date.day}-{date.month}-{date.year}')\r\n",
    "        df.to_csv (f'data/by-date/{date.day}-{date.month}-{date.year}/{country}.csv', index = False, header=True)\r\n",
    "    return data"
   ]
  },
  {
   "cell_type": "code",
   "execution_count": 7,
   "metadata": {},
   "outputs": [
    {
     "output_type": "stream",
     "name": "stdout",
     "text": [
      "Creation of the directory failed\n"
     ]
    }
   ],
   "source": [
    "country = \"Kazakhstan\"\n",
    "year = 2021\n",
    "month = 1\n",
    "day = 25\n",
    "_ = generate_and_save_country_stats_by_date(country, day, month, year)"
   ]
  },
  {
   "cell_type": "markdown",
   "metadata": {},
   "source": [
    "___________\n",
    "Statisctics of world situation for given date"
   ]
  },
  {
   "cell_type": "code",
   "execution_count": 8,
   "metadata": {},
   "outputs": [],
   "source": [
    "\r\n",
    "def generate_and_save_world_stats_by_date(day, month, year, save=True):\r\n",
    "    world_data = client.get_world_stats_by_date(day, month, year)\r\n",
    "    lastUpdate = world_data[0]['lastUpdate']\r\n",
    "    date = datetime.datetime.strptime(lastUpdate, '%Y-%m-%d %H:%M:%S')\r\n",
    "\r\n",
    "    data = {\r\n",
    "        'country': [world_data[i]['countryRegion'] for i in range(len(world_data))],\r\n",
    "        'provinceState': [world_data[i]['provinceState'] for i in range(len(world_data))],\r\n",
    "        'Confirmed': [world_data[i]['confirmed'] for i in range(len(world_data))],\r\n",
    "        'Recovered': [world_data[i]['recovered'] for i in range(len(world_data))],\r\n",
    "        'Deaths': [world_data[i]['deaths'] for i in range(len(world_data))],\r\n",
    "        'Active': [world_data[i]['active'] for i in range(len(world_data))],\r\n",
    "        'date': [date] * len(world_data)\r\n",
    "    }\r\n",
    "\r\n",
    "    if save:\r\n",
    "        df = pd.DataFrame(data, columns=['country', 'provinceState', 'Confirmed', 'Recovered', 'Deaths', 'Active', 'date'])\r\n",
    "        try_create_directory(f'data/by-date/{date.day}-{date.month}-{date.year}')\r\n",
    "        try_create_directory(f'data/by-date/{date.day}-{date.month}-{date.year}/world')\r\n",
    "        df.to_csv (f'data/by-date/{date.day}-{date.month}-{date.year}/world/World.csv', index = False, header=True)\r\n",
    "\r\n",
    "    return data\r\n"
   ]
  },
  {
   "cell_type": "code",
   "execution_count": 26,
   "metadata": {},
   "outputs": [
    {
     "output_type": "stream",
     "name": "stdout",
     "text": [
      "Creation of the directory failed\nCreation of the directory failed\n"
     ]
    }
   ],
   "source": [
    "year = 2021\n",
    "month = 1\n",
    "day = 25\n",
    "_ = generate_and_save_world_stats_by_date(day, month, year)"
   ]
  },
  {
   "cell_type": "markdown",
   "metadata": {},
   "source": [
    "_____\n",
    "Statistics of country for specific period of time"
   ]
  },
  {
   "cell_type": "code",
   "execution_count": 9,
   "metadata": {},
   "outputs": [],
   "source": [
    "def generate_and_save_contry_stats_in_date_range(country, date1, date2, save=True):\r\n",
    "    if len(date1) != 3 or len(date2) != 3:\r\n",
    "        raise Exception(\"Incorrect format of date.\")\r\n",
    "\r\n",
    "    start_date = datetime.date(*reversed(date1))\r\n",
    "    end_date = datetime.date(*reversed(date2))\r\n",
    "    day_count = (end_date - start_date).days + 1\r\n",
    "\r\n",
    "    if day_count <= 0:\r\n",
    "        raise Exception(\"Start date must be before end date.\")\r\n",
    "\r\n",
    "    data = {\r\n",
    "        'provinceState': [],\r\n",
    "        'Confirmed': [],\r\n",
    "        'Recovered': [],\r\n",
    "        'Deaths': [],\r\n",
    "        'Active': [],\r\n",
    "        'date': []\r\n",
    "    }\r\n",
    "\r\n",
    "    for date in (start_date + datetime.timedelta(n) for n in range(day_count)):\r\n",
    "        try:\r\n",
    "            date_data = generate_and_save_country_stats_by_date(country, date.day, date.month, date.year, save=False)\r\n",
    "            for key in data.keys():\r\n",
    "                data[key] += date_data[key]\r\n",
    "\r\n",
    "        except Exception as e:\r\n",
    "            print(e)\r\n",
    "\r\n",
    "    if save:\r\n",
    "        df = pd.DataFrame(data, columns=['provinceState', 'Confirmed', 'Recovered', 'Deaths', 'Active', 'date'])\r\n",
    "        try_create_directory(f'data/by-date-range')\r\n",
    "        try_create_directory(f'data/by-date-range/{start_date.day}-{start_date.month}-{start_date.year}to{end_date.day}-{end_date.month}-{end_date.year}')\r\n",
    "        df.to_csv (f'data/by-date-range/{start_date.day}-{start_date.month}-{start_date.year}to{end_date.day}-{end_date.month}-{end_date.year}/{country}.csv', index = False, header=True)\r\n",
    "    return data\r\n"
   ]
  },
  {
   "cell_type": "code",
   "execution_count": 10,
   "metadata": {},
   "outputs": [
    {
     "output_type": "stream",
     "name": "stdout",
     "text": [
      "Creation of the directory failed\nCreation of the directory failed\n"
     ]
    }
   ],
   "source": [
    "country = \"Kazakhstan\"\n",
    "date1 = (1,6,2020)\n",
    "date2 = (4,6,2020)\n",
    "\n",
    "_ = generate_and_save_contry_stats_in_date_range(country, date1, date2)"
   ]
  },
  {
   "cell_type": "code",
   "execution_count": null,
   "metadata": {},
   "outputs": [],
   "source": []
  },
  {
   "cell_type": "code",
   "execution_count": null,
   "metadata": {},
   "outputs": [],
   "source": []
  }
 ],
 "metadata": {
  "kernelspec": {
   "name": "python385jvsc74a57bd0770021e68aae5e5bc49f7a3b6edb919a4a251fef8e7696fd47196c25263b13c4",
   "display_name": "Python 3.8.5 64-bit (conda)"
  },
  "language_info": {
   "codemirror_mode": {
    "name": "ipython",
    "version": 3
   },
   "file_extension": ".py",
   "mimetype": "text/x-python",
   "name": "python",
   "nbconvert_exporter": "python",
   "pygments_lexer": "ipython3",
   "version": "3.8.5"
  },
  "metadata": {
   "interpreter": {
    "hash": "63fd5069d213b44bf678585dea6b12cceca9941eaf7f819626cde1f2670de90d"
   }
  },
  "orig_nbformat": 2
 },
 "nbformat": 4,
 "nbformat_minor": 2
}